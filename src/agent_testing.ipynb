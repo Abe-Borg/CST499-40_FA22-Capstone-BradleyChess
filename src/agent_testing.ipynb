{
 "cells": [
  {
   "cell_type": "code",
   "execution_count": null,
   "metadata": {},
   "outputs": [],
   "source": [
    "import pandas as pd\n",
    "pd.set_option('display.max_columns', None)\n",
    "\n",
    "chess_data_path = r'C:\\Users\\Abrah\\Dropbox\\PC (2)\\Desktop\\GitHub Repos\\CST499-40_FA22-Capstone-BradleyChess\\chess_data\\Chess_Games_DB_pd_df_Part_11.pkl'\n",
    "chess_data = pd.read_pickle(chess_data_path, compression = 'zip')"
   ]
  },
  {
   "cell_type": "code",
   "execution_count": null,
   "metadata": {},
   "outputs": [],
   "source": [
    "import numpy as np\n",
    "import random\n",
    "\n",
    "class Agent:\n",
    "    def __init__(self, color: str, chess_data: pd.DataFrame, learn_rate = 0.6, discount_factor = 0.35):\n",
    "        self.learn_rate = learn_rate\n",
    "        self.discount_factor = discount_factor\n",
    "        self.color = color\n",
    "        self.chess_data = chess_data\n",
    "        self.is_trained: bool = False\n",
    "        self.Q_table: pd.DataFrame = self.init_Q_table(self.chess_data)\n",
    "    \n",
    "    def choose_action(self, environ_state: dict[str, str, list[str]], curr_game: str = 'Game 1') -> str:\n",
    "        moves_not_in_Q_table: list[str] = [move for move in environ_state['legal_moves'] if move not in self.Q_table.index]\n",
    "        if moves_not_in_Q_table:\n",
    "            self.update_Q_table(moves_not_in_Q_table)\n",
    "        if self.is_trained:\n",
    "            return self.policy_game_mode(environ_state['legal_moves'], environ_state['curr_turn'])\n",
    "        else:\n",
    "            return self.policy_training_mode(curr_game, environ_state[\"curr_turn\"])\n",
    "\n",
    "    def policy_training_mode(self, curr_game: str, curr_turn: str) -> str:\n",
    "        return self.chess_data.at[curr_game, curr_turn]\n",
    "    ### end of policy_training_mode ###\n",
    "\n",
    "    def policy_game_mode(self, legal_moves: list[str], curr_turn: str) -> str:\n",
    "        dice_roll = get_number_with_probability(0.1)\n",
    "        legal_moves_in_q_table = self.Q_table[curr_turn].loc[self.Q_table[curr_turn].index.intersection(legal_moves)]\n",
    "\n",
    "        if dice_roll == 1:\n",
    "            chess_move = legal_moves_in_q_table.sample().index[0]\n",
    "        else:\n",
    "            chess_move = legal_moves_in_q_table.idxmax()\n",
    "        return chess_move\n",
    "    ### end of policy_game_mode ###\n",
    "\n",
    "    def init_Q_table(self, chess_data: pd.DataFrame) -> pd.DataFrame:\n",
    "        turns_list = [f'{self.color}{i + 1}' for i in range(200)]\n",
    "        move_columns = [col for col in chess_data.columns if col.startswith(self.color)]\n",
    "        unique_moves = pd.Series(chess_data[move_columns].values.flatten()).unique()\n",
    "        q_table: pd.DataFrame = pd.DataFrame(0, index = unique_moves, columns = turns_list, dtype = np.int64)\n",
    "        return q_table\n",
    "    ### end of init_Q_table ###\n",
    "\n",
    "    def change_Q_table_pts(self, chess_move: str, curr_turn: str, pts: int) -> None:\n",
    "        self.Q_table.at[chess_move, curr_turn] += pts\n",
    "    ### end of change_Q_table_pts ###\n",
    "\n",
    "    def update_Q_table(self, new_chess_moves: list[str]) -> None:\n",
    "        q_table_new_values: pd.DataFrame = pd.DataFrame(0, index = new_chess_moves, columns = self.Q_table.columns, dtype = np.int64)\n",
    "        self.Q_table = pd.concat([self.Q_table, q_table_new_values])\n",
    "    ### update_Q_table ###\n",
    "\n",
    "    # @log_config.log_execution_time_every_N()        \n",
    "    def reset_Q_table(self) -> None:\n",
    "        self.Q_table.iloc[:, :] = 0 \n",
    "\n",
    "\n",
    "def get_number_with_probability(probability: float) -> int:\n",
    "    if random.random() < probability:\n",
    "        return 1\n",
    "    else:\n",
    "        return 0\n",
    "    "
   ]
  },
  {
   "cell_type": "code",
   "execution_count": null,
   "metadata": {},
   "outputs": [],
   "source": [
    "w_agent = Agent('W', chess_data)"
   ]
  },
  {
   "cell_type": "code",
   "execution_count": null,
   "metadata": {},
   "outputs": [],
   "source": [
    "w_agent.Q_table"
   ]
  },
  {
   "cell_type": "code",
   "execution_count": null,
   "metadata": {},
   "outputs": [],
   "source": [
    "w_agent.chess_data.info()"
   ]
  },
  {
   "cell_type": "code",
   "execution_count": null,
   "metadata": {},
   "outputs": [],
   "source": [
    "w_agent.Q_table = w_agent.Q_table.applymap(lambda x: np.random.randint(50, 10001))\n",
    "w_agent.Q_table"
   ]
  },
  {
   "cell_type": "code",
   "execution_count": null,
   "metadata": {},
   "outputs": [],
   "source": [
    "# Assuming q_table is your DataFrame and 'W1' is the column you're interested in\n",
    "selected_column_sorted = w_agent.Q_table['W1'].sort_values(ascending=False)\n",
    "selected_column_sorted"
   ]
  },
  {
   "cell_type": "code",
   "execution_count": null,
   "metadata": {},
   "outputs": [],
   "source": [
    "environ_state = {'turn_index': 0, 'curr_turn': 'W1', 'legal_moves': [\n",
    "    \"e3\", \"e4\", \"d3\", \"d4\", \"c3\", \"c4\", \"f3\", \"f4\", \"g3\", \"g4\", \"h3\", \"h4\", \n",
    "    \"a3\", \"a4\", \"b3\", \"b4\", \"b1c3\", \"b1a3\", \"g1f3\", \"g1h3\", 'Rec1+'\n",
    "]}"
   ]
  },
  {
   "cell_type": "code",
   "execution_count": null,
   "metadata": {},
   "outputs": [],
   "source": [
    "w_agent.is_trained = True"
   ]
  },
  {
   "cell_type": "code",
   "execution_count": null,
   "metadata": {},
   "outputs": [],
   "source": [
    "chess_move_1 = w_agent.choose_action(environ_state)"
   ]
  },
  {
   "cell_type": "code",
   "execution_count": null,
   "metadata": {},
   "outputs": [],
   "source": [
    "chess_move_1"
   ]
  },
  {
   "cell_type": "code",
   "execution_count": null,
   "metadata": {},
   "outputs": [],
   "source": []
  }
 ],
 "metadata": {
  "kernelspec": {
   "display_name": "Python 3.9 (XPython Raw)",
   "language": "python",
   "name": "xpython-raw"
  },
  "language_info": {
   "file_extension": ".py",
   "mimetype": "text/x-python",
   "name": "python",
   "version": "3.9.12"
  }
 },
 "nbformat": 4,
 "nbformat_minor": 2
}
