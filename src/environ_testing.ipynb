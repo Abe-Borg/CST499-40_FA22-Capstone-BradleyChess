{
 "cells": [
  {
   "cell_type": "code",
   "execution_count": null,
   "metadata": {},
   "outputs": [],
   "source": [
    "import pandas as pd\n",
    "import chess"
   ]
  },
  {
   "cell_type": "code",
   "execution_count": null,
   "metadata": {},
   "outputs": [],
   "source": [
    "\n",
    "pd.set_option('display.max_columns', None)\n",
    "chess_data_path = r'C:\\Users\\Abrah\\Dropbox\\PC (2)\\Desktop\\GitHub Repos\\CST499-40_FA22-Capstone-BradleyChess\\chess_data\\chess_data_cleaned.pkl'\n",
    "chess_data = pd.read_pickle(chess_data_path, compression = 'zip')"
   ]
  },
  {
   "cell_type": "code",
   "execution_count": null,
   "metadata": {},
   "outputs": [],
   "source": [
    "class Environ:\n",
    "    def __init__(self):\n",
    "        self.board: chess.Board = chess.Board()\n",
    "        max_turns = 400\n",
    "        self.turn_list: list[str] = [f'{\"W\" if i % 2 == 0 else \"B\"}{i // 2 + 1}' for i in range(max_turns)]\n",
    "        self.turn_index: int = 0\n",
    "    ### end of constructor\n",
    "\n",
    "\n",
    "    def get_curr_state(self) -> dict[str, str, list[str]]:\n",
    "        try:\n",
    "            curr_turn = self.get_curr_turn()\n",
    "        except IndexError as e:\n",
    "            raise IndexError from e\n",
    "\n",
    "        state = {'turn_index': self.turn_index, 'curr_turn': curr_turn, 'legal_moves': self.get_legal_moves()}\n",
    "\n",
    "        return state\n",
    "    ### end of get_curr_state\n",
    "    \n",
    "    def update_curr_state(self) -> None:\n",
    "        if self.turn_index < 399:\n",
    "            self.turn_index += 1\n",
    "        else:\n",
    "            raise IndexError(f\"Maximum turn index ({399}) reached!\")\n",
    "    ### end of update_curr_state\n",
    "    \n",
    "    def get_curr_turn(self) -> str:                        \n",
    "        try: \n",
    "            curr_turn = self.turn_list[self.turn_index]\n",
    "            return curr_turn\n",
    "        except IndexError as e:\n",
    "            raise IndexError from e\n",
    "    ### end of get_curr_turn\n",
    "    \n",
    "    def load_chessboard(self, chess_move_str: str, curr_game = 'Game 1') -> None:\n",
    "        try:\n",
    "            self.board.push_san(chess_move_str)\n",
    "        except ValueError as e:\n",
    "            raise ValueError from e        \n",
    "    ### end of load_chessboard    \n",
    "\n",
    "    def pop_chessboard(self) -> None:\n",
    "        try:\n",
    "            self.board.pop()\n",
    "        except IndexError as e:\n",
    "            raise IndexError(f\"An error occurred: {e}, unable to pop chessboard'\")\n",
    "    ### end of pop_chessboard\n",
    "\n",
    "    def undo_move(self) -> None:\n",
    "        try:\n",
    "            self.board.pop()\n",
    "            self.turn_index -= 1\n",
    "        except IndexError as e:\n",
    "            raise IndexError from e\n",
    "    ### end of undo_move\n",
    "\n",
    "    def load_chessboard_for_Q_est(self, analysis_results: list[dict]) -> None:\n",
    "        anticipated_chess_move = analysis_results['anticipated_next_move']\n",
    "        \n",
    "        try:\n",
    "            self.board.push(anticipated_chess_move)\n",
    "        except ValueError as e:\n",
    "            raise ValueError from e\n",
    "    ### end of load_chessboard_for_Q_est\n",
    "\n",
    "    def reset_environ(self) -> None:\n",
    "        self.board.reset()\n",
    "        self.turn_index = 0\n",
    "    ### end of reset_environ\n",
    "    \n",
    "    def get_legal_moves(self) -> list[str]:   \n",
    "        legal_moves = [self.board.san(move) for move in self.board.legal_moves]\n",
    "        \n",
    "        if len(legal_moves) == 0:\n",
    "            self.errors_file.write(f'hello from environ get_legal_moves, legal_moves is empty\\n')\n",
    "        \n",
    "        return legal_moves\n",
    "    ### end of get_legal_moves\n",
    "    "
   ]
  },
  {
   "cell_type": "code",
   "execution_count": null,
   "metadata": {},
   "outputs": [],
   "source": [
    "environ1 = Environ()"
   ]
  },
  {
   "cell_type": "code",
   "execution_count": null,
   "metadata": {},
   "outputs": [],
   "source": [
    "environ1.turn_index = 0"
   ]
  },
  {
   "cell_type": "code",
   "execution_count": null,
   "metadata": {},
   "outputs": [],
   "source": [
    "environ1.load_chessboard('Nc6')"
   ]
  },
  {
   "cell_type": "code",
   "execution_count": null,
   "metadata": {},
   "outputs": [],
   "source": [
    "environ1.board"
   ]
  },
  {
   "cell_type": "code",
   "execution_count": null,
   "metadata": {},
   "outputs": [],
   "source": [
    "environ1.turn_index = 4"
   ]
  },
  {
   "cell_type": "code",
   "execution_count": null,
   "metadata": {},
   "outputs": [],
   "source": [
    "environ1.get_curr_state()"
   ]
  },
  {
   "cell_type": "code",
   "execution_count": null,
   "metadata": {},
   "outputs": [],
   "source": [
    "environ1.reset_environ()"
   ]
  },
  {
   "cell_type": "code",
   "execution_count": null,
   "metadata": {},
   "outputs": [],
   "source": []
  }
 ],
 "metadata": {
  "kernelspec": {
   "display_name": "Python 3.9 (XPython Raw)",
   "language": "python",
   "name": "xpython-raw"
  },
  "language_info": {
   "file_extension": ".py",
   "mimetype": "text/x-python",
   "name": "python",
   "version": "3.9.12"
  }
 },
 "nbformat": 4,
 "nbformat_minor": 2
}
