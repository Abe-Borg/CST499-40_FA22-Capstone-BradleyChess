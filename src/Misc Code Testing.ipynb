{
 "cells": [
  {
   "cell_type": "code",
   "execution_count": null,
   "metadata": {},
   "outputs": [],
   "source": [
    "import pandas as pd\n",
    "pd.set_option('display.max_columns', None)\n",
    "\n",
    "cleaned_chess_data_path = r'C:\\Users\\Abrah\\Dropbox\\PC (2)\\Desktop\\GitHub Repos\\CST499-40_FA22-Capstone-BradleyChess\\chess_data\\chess_data_cleaned.pkl'\n",
    "# bradley_q_table_path = r\"C:\\Users\\Abrah\\Dropbox\\PC (2)\\Desktop\\GitHub Repos\\CST499-40_FA22-Capstone-BradleyChess\\Q_Tables\\bradley_agent_q_table.pkl\"\n",
    "\n",
    "\n",
    "# kaggle_chess_data = pd.read_pickle(kaggle_chess_data_path, compression = 'zip')\n",
    "cleaned_chess_data = pd.read_pickle(cleaned_chess_data_path, compression = 'zip')\n",
    "# bradley_q_table = pd.read_pickle(bradley_q_table_path, compression = 'zip')"
   ]
  },
  {
   "cell_type": "code",
   "execution_count": null,
   "metadata": {},
   "outputs": [],
   "source": [
    "cleaned_chess_data.head(10)"
   ]
  },
  {
   "cell_type": "code",
   "execution_count": null,
   "metadata": {},
   "outputs": [],
   "source": [
    "bradley_q_table.head(20)"
   ]
  },
  {
   "cell_type": "code",
   "execution_count": null,
   "metadata": {},
   "outputs": [],
   "source": [
    "bradley_q_table.shape"
   ]
  },
  {
   "cell_type": "code",
   "execution_count": null,
   "metadata": {},
   "outputs": [],
   "source": [
    "chess_pd_dataframe_file_path_part_1 = r\"C:\\Users\\Abrah\\Dropbox\\PC (2)\\Desktop\\Chess_Games_Database\\Chess_Games_DB_pd_df_Part_1.pkl\""
   ]
  },
  {
   "cell_type": "code",
   "execution_count": null,
   "metadata": {},
   "outputs": [],
   "source": [
    "chess_data_from_json = pd.read_pickle(chess_pd_dataframe_file_path_part_1, compression = 'zip')"
   ]
  },
  {
   "cell_type": "code",
   "execution_count": null,
   "metadata": {},
   "outputs": [],
   "source": [
    "chess_data_from_json.head(10)"
   ]
  },
  {
   "cell_type": "code",
   "execution_count": null,
   "metadata": {},
   "outputs": [],
   "source": [
    "chess_data_from_json.info(memory_usage='deep')"
   ]
  },
  {
   "cell_type": "code",
   "execution_count": null,
   "metadata": {},
   "outputs": [],
   "source": [
    "games_with_more_than_100_moves = chess_data_from_json[chess_data_from_json['Num Moves'] > 300]"
   ]
  },
  {
   "cell_type": "code",
   "execution_count": null,
   "metadata": {},
   "outputs": [],
   "source": [
    "games_with_more_than_100_moves.head(10)"
   ]
  },
  {
   "cell_type": "code",
   "execution_count": null,
   "metadata": {},
   "outputs": [],
   "source": [
    "games_with_more_than_100_moves.shape"
   ]
  },
  {
   "cell_type": "code",
   "execution_count": null,
   "metadata": {},
   "outputs": [],
   "source": [
    "import pandas as pd\n",
    "import chess.pgn\n",
    "import game_settings\n",
    "import time\n",
    "\n",
    "def pgn_to_dataframe(input_file_path):\n",
    "    games_list = []\n",
    "\n",
    "    with open(input_file_path, 'r', encoding='utf-8') as file:\n",
    "        while True:\n",
    "            game = chess.pgn.read_game(file)\n",
    "            if game is None:\n",
    "                break\n",
    "\n",
    "            game_dict = {\n",
    "                \"PlyCount\": game.end().board().ply(),\n",
    "                \"Result\": game.headers[\"Result\"]\n",
    "            }\n",
    "\n",
    "            board = game.board()\n",
    "            for i, move in enumerate(game.mainline_moves()):\n",
    "                col_prefix = 'W' if i % 2 == 0 else 'B'\n",
    "                move_num = i // 2 + 1\n",
    "                col_name = f\"{col_prefix}{move_num}\"\n",
    "                game_dict[col_name] = board.san(move)\n",
    "                board.push(move)\n",
    "\n",
    "            games_list.append(game_dict)\n",
    "\n",
    "    chess_df = pd.DataFrame(games_list)\n",
    "    chess_df.index = ['Game ' + str(i+1) for i in chess_df.index]\n",
    "    chess_df = chess_df.fillna('')\n",
    "    chess_df = chess_df[[c for c in chess_df if c not in ['Result']] + ['Result']]\n",
    "    chess_df = chess_df[(chess_df['PlyCount'] > 0) & (chess_df['PlyCount'] <= game_settings.max_num_turns_per_player * 2)]\n",
    "\n",
    "    return chess_df\n",
    "\n",
    "\n"
   ]
  },
  {
   "cell_type": "code",
   "execution_count": null,
   "metadata": {},
   "outputs": [],
   "source": [
    "start_time = time.time()\n",
    "df = pgn_to_dataframe(game_settings.chess_pgn_file_path_1)\n",
    "df.to_pickle(game_settings.chess_pd_dataframe_file_path_part_1, compression='zip')\n",
    "end_time = time.time()\n",
    "print('PGN to DataFrame conversion is complete\\n')\n",
    "print(f'It took: {end_time - start_time} seconds')"
   ]
  },
  {
   "cell_type": "code",
   "execution_count": null,
   "metadata": {},
   "outputs": [],
   "source": [
    "import game_settings\n",
    "import pandas as pd\n",
    "chess_data = pd.read_pickle(game_settings.chess_pd_dataframe_file_path_part_1, compression = 'zip')"
   ]
  },
  {
   "cell_type": "code",
   "execution_count": null,
   "metadata": {},
   "outputs": [],
   "source": [
    "chess_data.shape"
   ]
  },
  {
   "cell_type": "code",
   "execution_count": null,
   "metadata": {},
   "outputs": [],
   "source": []
  }
 ],
 "metadata": {
  "kernelspec": {
   "display_name": "Python 3.9 (XPython Raw)",
   "language": "python",
   "name": "xpython-raw"
  },
  "language_info": {
   "file_extension": ".py",
   "mimetype": "text/x-python",
   "name": "python",
   "version": "3.9.13"
  },
  "orig_nbformat": 4
 },
 "nbformat": 4,
 "nbformat_minor": 2
}
