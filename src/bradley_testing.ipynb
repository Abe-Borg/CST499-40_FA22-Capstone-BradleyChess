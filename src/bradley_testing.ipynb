{
 "cells": [
  {
   "cell_type": "code",
   "execution_count": null,
   "metadata": {},
   "outputs": [],
   "source": [
    "pd.set_option('display.max_columns', None)\n",
    "\n",
    "chess_data_path = r'C:\\Users\\Abrah\\Dropbox\\PC (2)\\Desktop\\GitHub Repos\\CST499-40_FA22-Capstone-BradleyChess\\chess_data\\Chess_Games_DB_pd_df_Part_1.pkl'\n",
    "chess_data = pd.read_pickle(chess_data_path, compression = 'zip')"
   ]
  },
  {
   "cell_type": "code",
   "execution_count": null,
   "metadata": {},
   "outputs": [],
   "source": []
  }
 ],
 "metadata": {
  "language_info": {
   "name": "python"
  }
 },
 "nbformat": 4,
 "nbformat_minor": 2
}
