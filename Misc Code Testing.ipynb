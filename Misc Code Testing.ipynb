{
 "cells": [
  {
   "cell_type": "code",
   "execution_count": null,
   "metadata": {},
   "outputs": [],
   "source": [
    "import pandas as pd\n",
    "pd.set_option('display.max_columns', None)\n",
    "\n",
    "cleaned_chess_data_path = r'C:\\Users\\Abrah\\Dropbox\\PC (2)\\Desktop\\GitHub Repos\\CST499-40_FA22-Capstone-BradleyChess\\chess_data\\chess_data_cleaned.pkl'\n",
    "# bradley_q_table_path = r\"C:\\Users\\Abrah\\Dropbox\\PC (2)\\Desktop\\GitHub Repos\\CST499-40_FA22-Capstone-BradleyChess\\Q_Tables\\bradley_agent_q_table.pkl\"\n",
    "\n",
    "\n",
    "# kaggle_chess_data = pd.read_pickle(kaggle_chess_data_path, compression = 'zip')\n",
    "cleaned_chess_data = pd.read_pickle(cleaned_chess_data_path, compression = 'zip')\n",
    "# bradley_q_table = pd.read_pickle(bradley_q_table_path, compression = 'zip')"
   ]
  },
  {
   "cell_type": "code",
   "execution_count": null,
   "metadata": {},
   "outputs": [],
   "source": [
    "cleaned_chess_data.head(10)"
   ]
  },
  {
   "cell_type": "code",
   "execution_count": null,
   "metadata": {},
   "outputs": [],
   "source": [
    "bradley_q_table.head(20)"
   ]
  },
  {
   "cell_type": "code",
   "execution_count": null,
   "metadata": {},
   "outputs": [],
   "source": [
    "bradley_q_table.shape"
   ]
  },
  {
   "cell_type": "code",
   "execution_count": null,
   "metadata": {},
   "outputs": [],
   "source": [
    "chess_pd_dataframe_file_path_part_1 = r\"C:\\Users\\Abrah\\Dropbox\\PC (2)\\Desktop\\Chess_Games_Database\\Chess_Games_DB_pd_df_Part_1.pkl\""
   ]
  },
  {
   "cell_type": "code",
   "execution_count": null,
   "metadata": {},
   "outputs": [],
   "source": [
    "chess_data_from_json = pd.read_pickle(chess_pd_dataframe_file_path_part_1, compression = 'zip')"
   ]
  },
  {
   "cell_type": "code",
   "execution_count": null,
   "metadata": {},
   "outputs": [],
   "source": [
    "chess_data_from_json.head(10)"
   ]
  },
  {
   "cell_type": "code",
   "execution_count": null,
   "metadata": {},
   "outputs": [],
   "source": [
    "chess_data_from_json.info(memory_usage='deep')"
   ]
  },
  {
   "cell_type": "code",
   "execution_count": null,
   "metadata": {},
   "outputs": [],
   "source": [
    "games_with_more_than_100_moves = chess_data_from_json[chess_data_from_json['Num Moves'] > 300]"
   ]
  },
  {
   "cell_type": "code",
   "execution_count": null,
   "metadata": {},
   "outputs": [],
   "source": [
    "games_with_more_than_100_moves.head(10)"
   ]
  },
  {
   "cell_type": "code",
   "execution_count": null,
   "metadata": {},
   "outputs": [],
   "source": [
    "games_with_more_than_100_moves.shape"
   ]
  },
  {
   "cell_type": "code",
   "execution_count": null,
   "metadata": {},
   "outputs": [],
   "source": []
  }
 ],
 "metadata": {
  "kernelspec": {
   "display_name": "Python 3.9 (XPython Raw)",
   "language": "python",
   "name": "xpython-raw"
  },
  "language_info": {
   "file_extension": ".py",
   "mimetype": "text/x-python",
   "name": "python",
   "version": "3.9.13"
  },
  "orig_nbformat": 4
 },
 "nbformat": 4,
 "nbformat_minor": 2
}
